{
    "cells": [
        {
            "cell_type": "markdown",
            "metadata": {
                "collapsed": true
            },
            "source": "# The Battle of Neighborhoods"
        },
        {
            "cell_type": "markdown",
            "metadata": {},
            "source": "## Buisness Problem"
        },
        {
            "cell_type": "markdown",
            "metadata": {},
            "source": "Toronto and New York are two famous cities in the world with a plethore of opportunities. They are diverse in many aspects. Both are multicultural as well as the financial hubs of their respective countries. We want to explore how much they are similar or dissimilar in aspects from a tourist point of view regarding food, accommodation, beautiful places, and many more.\n\nToday, tourism is one of the pillars of the economy and the people most often visit the countries which are rich in heritage and can provide valuable insights to their cultures. Every city is unique in their own way and has the potential to provide something valuable to the tourist. And now the information is so common regarding location/experience of every place around the world which makes it easier to explore them before even having to visit these places. Therefore, tourists are always eager to research about different places before visiting them. The information and the comparison between these two cities will help assist a tourist caught in a dilemma of visiting Toronto or New York to choose the city of their choice."
        },
        {
            "cell_type": "markdown",
            "metadata": {},
            "source": "## Data Description"
        },
        {
            "cell_type": "markdown",
            "metadata": {},
            "source": "Foursquare API is used to explore the data of two cities, in terms of their neighborhoods. The data also include the information about the places around each neighborhood like restaurants, hotels, coffee shops, parks, theaters, art galleries, museums and many more. One Borough from each city to is selected to analyze their neighborhoods. Manhattan from New York and Downtown Toronto from Toronto. The machine learning technique, \u201cClustering\u201d is used to segment the neighborhoods with similar objects on the basis of each neighborhood data. These objects will be given priority on the basis of foot traffic (activity) in their respective neighborhoods. This will help to locate the tourist\u2019s areas and hubs, and one can judge the similarity or dissimilarity between two cities on that basis."
        },
        {
            "cell_type": "code",
            "execution_count": null,
            "metadata": {},
            "outputs": [],
            "source": ""
        }
    ],
    "metadata": {
        "kernelspec": {
            "display_name": "Python 3.6",
            "language": "python",
            "name": "python3"
        },
        "language_info": {
            "codemirror_mode": {
                "name": "ipython",
                "version": 3
            },
            "file_extension": ".py",
            "mimetype": "text/x-python",
            "name": "python",
            "nbconvert_exporter": "python",
            "pygments_lexer": "ipython3",
            "version": "3.6.9"
        }
    },
    "nbformat": 4,
    "nbformat_minor": 1
}